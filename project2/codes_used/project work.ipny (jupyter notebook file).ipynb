{
 "cells": [
  {
   "cell_type": "code",
   "execution_count": 1,
   "id": "f62e09d1",
   "metadata": {},
   "outputs": [
    {
     "name": "stdout",
     "output_type": "stream",
     "text": [
      "Requirement already satisfied: psycopg2 in c:\\python\\lib\\site-packages (2.9.5)\n"
     ]
    }
   ],
   "source": [
    "!pip install psycopg2"
   ]
  },
  {
   "cell_type": "code",
   "execution_count": 2,
   "id": "428304c1",
   "metadata": {},
   "outputs": [],
   "source": [
    "import psycopg2"
   ]
  },
  {
   "cell_type": "code",
   "execution_count": 18,
   "id": "48a040ba",
   "metadata": {},
   "outputs": [],
   "source": [
    "conn = psycopg2.connect(\n",
    "        host = \"varahi-db1.cambobrvvnfo.ap-northeast-1.rds.amazonaws.com\",\n",
    "        port = 5432,\n",
    "        user = \"postgres\",\n",
    "        password = \"aws12345\"\n",
    "        )"
   ]
  },
  {
   "cell_type": "code",
   "execution_count": 19,
   "id": "9cc47e00",
   "metadata": {},
   "outputs": [],
   "source": [
    "conn.autocommit=True"
   ]
  },
  {
   "cell_type": "code",
   "execution_count": 20,
   "id": "25531432",
   "metadata": {},
   "outputs": [],
   "source": [
    "cursor = conn.cursor()"
   ]
  },
  {
   "cell_type": "code",
   "execution_count": 15,
   "id": "08342233",
   "metadata": {},
   "outputs": [],
   "source": [
    "query = \"create table project(SNO SERIAL PRIMARY KEY, issdata json )\"\n",
    "#query = \"drop table project\""
   ]
  },
  {
   "cell_type": "code",
   "execution_count": 16,
   "id": "e85e9fe1",
   "metadata": {},
   "outputs": [],
   "source": [
    "cursor.execute(query)"
   ]
  },
  {
   "cell_type": "code",
   "execution_count": 22,
   "id": "3a853539",
   "metadata": {},
   "outputs": [
    {
     "name": "stdout",
     "output_type": "stream",
     "text": [
      "(1, '{\"iss_position\": {\"longitude\": \"-60.0779\", \"latitude\": \"16.5210\"}, \"message\": \"success\", \"timestamp\": 1678103933}')\n",
      "(2, '{\"iss_position\": {\"longitude\": \"-59.4880\", \"latitude\": \"15.7799\"}, \"message\": \"success\", \"timestamp\": 1678103948}')\n",
      "(3, '{\"iss_position\": {\"longitude\": \"-58.8834\", \"latitude\": \"15.0121\"}, \"message\": \"success\", \"timestamp\": 1678103964}')\n",
      "(4, '{\"iss_position\": {\"longitude\": \"-58.2644\", \"latitude\": \"14.2176\"}, \"message\": \"success\", \"timestamp\": 1678103980}')\n",
      "(5, '{\"iss_position\": {\"longitude\": \"-57.7842\", \"latitude\": \"13.5956\"}, \"message\": \"success\", \"timestamp\": 1678103992}')\n",
      "(6, '{\"timestamp\": 1678104007, \"message\": \"success\", \"iss_position\": {\"latitude\": \"12.8361\", \"longitude\": \"-57.2028\"}}')\n",
      "(7, '{\"timestamp\": 1678104023, \"message\": \"success\", \"iss_position\": {\"latitude\": \"12.0616\", \"longitude\": \"-56.6152\"}}')\n",
      "(8, '{\"timestamp\": 1678104038, \"message\": \"success\", \"iss_position\": {\"latitude\": \"11.2857\", \"longitude\": \"-56.0314\"}}')\n",
      "(9, '{\"timestamp\": 1678104051, \"message\": \"success\", \"iss_position\": {\"latitude\": \"10.6338\", \"longitude\": \"-55.5445\"}}')\n",
      "(10, '{\"timestamp\": 1678104067, \"message\": \"success\", \"iss_position\": {\"latitude\": \"9.8553\", \"longitude\": \"-54.9669\"}}')\n",
      "(11, '{\"timestamp\": 1678104082, \"message\": \"success\", \"iss_position\": {\"latitude\": \"9.0755\", \"longitude\": \"-54.3923\"}}')\n",
      "(12, '{\"timestamp\": 1678104097, \"message\": \"success\", \"iss_position\": {\"latitude\": \"8.3201\", \"longitude\": \"-53.8391\"}}')\n",
      "(13, '{\"timestamp\": 1678104112, \"message\": \"success\", \"iss_position\": {\"latitude\": \"7.6142\", \"longitude\": \"-53.3250\"}}')\n",
      "(14, '{\"timestamp\": 1678104127, \"message\": \"success\", \"iss_position\": {\"latitude\": \"6.8319\", \"longitude\": \"-52.7579\"}}')\n",
      "(15, '{\"timestamp\": 1678104143, \"message\": \"success\", \"iss_position\": {\"latitude\": \"6.0488\", \"longitude\": \"-52.1930\"}}')\n",
      "(16, '{\"timestamp\": 1678104158, \"message\": \"success\", \"iss_position\": {\"latitude\": \"5.2903\", \"longitude\": \"-51.6481\"}}')\n",
      "(17, '{\"timestamp\": 1678104172, \"message\": \"success\", \"iss_position\": {\"latitude\": \"4.5817\", \"longitude\": \"-51.1408\"}}')\n",
      "(18, '{\"timestamp\": 1678104187, \"message\": \"success\", \"iss_position\": {\"latitude\": \"3.7968\", \"longitude\": \"-50.5805\"}}')\n",
      "(19, '{\"timestamp\": 1678104203, \"message\": \"success\", \"iss_position\": {\"latitude\": \"3.0115\", \"longitude\": \"-50.0214\"}}')\n",
      "(20, '{\"timestamp\": 1678104218, \"message\": \"success\", \"iss_position\": {\"latitude\": \"2.2514\", \"longitude\": \"-49.4813\"}}')\n",
      "(21, '{\"timestamp\": 1678104232, \"message\": \"success\", \"iss_position\": {\"latitude\": \"1.5416\", \"longitude\": \"-48.9777\"}}')\n",
      "(22, '{\"timestamp\": 1678104247, \"message\": \"success\", \"iss_position\": {\"latitude\": \"0.7556\", \"longitude\": \"-48.4206\"}}')\n",
      "(23, '{\"timestamp\": 1678104262, \"message\": \"success\", \"iss_position\": {\"latitude\": \"-0.0051\", \"longitude\": \"-47.8818\"}}')\n",
      "(24, '{\"timestamp\": 1678104278, \"message\": \"success\", \"iss_position\": {\"latitude\": \"-0.7911\", \"longitude\": \"-47.3249\"}}')\n",
      "(25, '{\"timestamp\": 1678104292, \"message\": \"success\", \"iss_position\": {\"latitude\": \"-1.5009\", \"longitude\": \"-46.8219\"}}')\n",
      "(26, '{\"timestamp\": 1678104307, \"message\": \"success\", \"iss_position\": {\"latitude\": \"-2.2866\", \"longitude\": \"-46.2645\"}}')\n",
      "(27, '{\"timestamp\": 1678104322, \"message\": \"success\", \"iss_position\": {\"latitude\": \"-3.0466\", \"longitude\": \"-45.7245\"}}')\n",
      "(28, '{\"timestamp\": 1678104338, \"message\": \"success\", \"iss_position\": {\"latitude\": \"-3.8315\", \"longitude\": \"-45.1656\"}}')\n",
      "(29, '{\"timestamp\": 1678104352, \"message\": \"success\", \"iss_position\": {\"latitude\": \"-4.5400\", \"longitude\": \"-44.6599\"}}')\n",
      "(30, '{\"timestamp\": 1678104367, \"message\": \"success\", \"iss_position\": {\"latitude\": \"-5.2985\", \"longitude\": \"-44.1169\"}}')\n",
      "(31, '{\"timestamp\": 1678104382, \"message\": \"success\", \"iss_position\": {\"latitude\": \"-6.0818\", \"longitude\": \"-43.5542\"}}')\n",
      "(32, '{\"timestamp\": 1678104398, \"message\": \"success\", \"iss_position\": {\"latitude\": \"-6.8643\", \"longitude\": \"-42.9897\"}}')\n",
      "(33, '{\"timestamp\": 1678104411, \"message\": \"success\", \"iss_position\": {\"latitude\": \"-7.5452\", \"longitude\": \"-42.4963\"}}')\n",
      "(34, '{\"timestamp\": 1678104427, \"message\": \"success\", \"iss_position\": {\"latitude\": \"-8.3259\", \"longitude\": \"-41.9277\"}}')\n",
      "(35, '{\"timestamp\": 1678104442, \"message\": \"success\", \"iss_position\": {\"latitude\": \"-9.1057\", \"longitude\": \"-41.3567\"}}')\n",
      "(36, '{\"timestamp\": 1678104458, \"message\": \"success\", \"iss_position\": {\"latitude\": \"-9.8843\", \"longitude\": \"-40.7829\"}}')\n",
      "(37, '{\"timestamp\": 1678104472, \"message\": \"success\", \"iss_position\": {\"latitude\": \"-10.5613\", \"longitude\": \"-40.2808\"}}')\n",
      "(38, '{\"timestamp\": 1678104487, \"message\": \"success\", \"iss_position\": {\"latitude\": \"-11.3376\", \"longitude\": \"-39.7011\"}}')\n",
      "(39, '{\"timestamp\": 1678104503, \"message\": \"success\", \"iss_position\": {\"latitude\": \"-12.1122\", \"longitude\": \"-39.1181\"}}')\n",
      "(40, '{\"timestamp\": 1678104518, \"message\": \"success\", \"iss_position\": {\"latitude\": \"-12.8853\", \"longitude\": \"-38.5313\"}}')\n",
      "(41, '{\"timestamp\": 1678104532, \"message\": \"success\", \"iss_position\": {\"latitude\": \"-13.5574\", \"longitude\": \"-38.0169\"}}')\n",
      "(42, '{\"timestamp\": 1678104547, \"message\": \"success\", \"iss_position\": {\"latitude\": \"-14.3274\", \"longitude\": \"-37.4224\"}}')\n",
      "(43, '{\"timestamp\": 1678104562, \"message\": \"success\", \"iss_position\": {\"latitude\": \"-15.0707\", \"longitude\": \"-36.8427\"}}')\n",
      "(44, '{\"timestamp\": 1678104578, \"message\": \"success\", \"iss_position\": {\"latitude\": \"-15.8369\", \"longitude\": \"-36.2389\"}}')\n",
      "(45, '{\"timestamp\": 1678104592, \"message\": \"success\", \"iss_position\": {\"latitude\": \"-16.5272\", \"longitude\": \"-35.6893\"}}')\n",
      "(46, '{\"timestamp\": 1678104607, \"message\": \"success\", \"iss_position\": {\"latitude\": \"-17.2648\", \"longitude\": \"-35.0955\"}}')\n",
      "(47, '{\"timestamp\": 1678104622, \"message\": \"success\", \"iss_position\": {\"latitude\": \"-18.0247\", \"longitude\": \"-34.4765\"}}')\n",
      "(48, '{\"timestamp\": 1678104638, \"message\": \"success\", \"iss_position\": {\"latitude\": \"-18.7821\", \"longitude\": \"-33.8515\"}}')\n",
      "(49, '{\"timestamp\": 1678104652, \"message\": \"success\", \"iss_position\": {\"latitude\": \"-19.4640\", \"longitude\": \"-33.2818\"}}')\n",
      "(50, '{\"timestamp\": 1678104667, \"message\": \"success\", \"iss_position\": {\"latitude\": \"-20.1921\", \"longitude\": \"-32.6654\"}}')\n",
      "(51, '{\"timestamp\": 1678104682, \"message\": \"success\", \"iss_position\": {\"latitude\": \"-20.9415\", \"longitude\": \"-32.0220\"}}')\n",
      "(52, '{\"timestamp\": 1678104698, \"message\": \"success\", \"iss_position\": {\"latitude\": \"-21.6880\", \"longitude\": \"-31.3714\"}}')\n",
      "(53, '{\"timestamp\": 1678104712, \"message\": \"success\", \"iss_position\": {\"latitude\": \"-22.3597\", \"longitude\": \"-30.7774\"}}')\n",
      "(54, '{\"timestamp\": 1678104727, \"message\": \"success\", \"iss_position\": {\"latitude\": \"-23.0763\", \"longitude\": \"-30.1339\"}}')\n",
      "(55, '{\"timestamp\": 1678104742, \"message\": \"success\", \"iss_position\": {\"latitude\": \"-23.8134\", \"longitude\": \"-29.4611\"}}')\n",
      "(56, '{\"timestamp\": 1678104758, \"message\": \"success\", \"iss_position\": {\"latitude\": \"-24.5470\", \"longitude\": \"-28.7799\"}}')\n",
      "(57, '{\"timestamp\": 1678104771, \"message\": \"success\", \"iss_position\": {\"latitude\": \"-25.1828\", \"longitude\": \"-28.1796\"}}')\n",
      "(58, '{\"timestamp\": 1678104787, \"message\": \"success\", \"iss_position\": {\"latitude\": \"-25.9092\", \"longitude\": \"-27.4817\"}}')\n",
      "(59, '{\"timestamp\": 1678104803, \"message\": \"success\", \"iss_position\": {\"latitude\": \"-26.6316\", \"longitude\": \"-26.7744\"}}')\n",
      "(60, '{\"timestamp\": 1678104818, \"message\": \"success\", \"iss_position\": {\"latitude\": \"-27.3266\", \"longitude\": \"-26.0806\"}}')\n"
     ]
    }
   ],
   "source": [
    "cursor.execute(\"select * from project\")\n",
    "z = cursor.fetchall()\n",
    "for i in z:\n",
    "  print(i)"
   ]
  },
  {
   "cell_type": "code",
   "execution_count": null,
   "id": "933736b7",
   "metadata": {},
   "outputs": [],
   "source": []
  },
  {
   "cell_type": "code",
   "execution_count": null,
   "id": "8f60f4a3",
   "metadata": {},
   "outputs": [],
   "source": []
  },
  {
   "cell_type": "code",
   "execution_count": null,
   "id": "c1b4d976",
   "metadata": {},
   "outputs": [],
   "source": []
  },
  {
   "cell_type": "code",
   "execution_count": null,
   "id": "097e5728",
   "metadata": {},
   "outputs": [],
   "source": []
  },
  {
   "cell_type": "code",
   "execution_count": null,
   "id": "e77284a6",
   "metadata": {},
   "outputs": [],
   "source": []
  },
  {
   "cell_type": "code",
   "execution_count": null,
   "id": "1f5de995",
   "metadata": {},
   "outputs": [],
   "source": []
  },
  {
   "cell_type": "code",
   "execution_count": null,
   "id": "372ac7d3",
   "metadata": {},
   "outputs": [],
   "source": []
  },
  {
   "cell_type": "code",
   "execution_count": null,
   "id": "0b9f6c59",
   "metadata": {},
   "outputs": [],
   "source": []
  },
  {
   "cell_type": "code",
   "execution_count": null,
   "id": "12b3f9fe",
   "metadata": {},
   "outputs": [],
   "source": []
  }
 ],
 "metadata": {
  "kernelspec": {
   "display_name": "Python 3 (ipykernel)",
   "language": "python",
   "name": "python3"
  },
  "language_info": {
   "codemirror_mode": {
    "name": "ipython",
    "version": 3
   },
   "file_extension": ".py",
   "mimetype": "text/x-python",
   "name": "python",
   "nbconvert_exporter": "python",
   "pygments_lexer": "ipython3",
   "version": "3.11.1"
  }
 },
 "nbformat": 4,
 "nbformat_minor": 5
}
